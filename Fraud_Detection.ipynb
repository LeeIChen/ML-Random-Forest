{
 "cells": [
  {
   "cell_type": "markdown",
   "metadata": {},
   "source": [
    "# 0. 路徑"
   ]
  },
  {
   "cell_type": "code",
   "execution_count": 1,
   "metadata": {
    "collapsed": true
   },
   "outputs": [],
   "source": [
    "import threading # 因為等等要載入大量資料所以要multi thread\n",
    "from multiprocessing import Queue\n",
    "\n",
    "from sklearn import datasets\n",
    "from sklearn.model_selection import train_test_split, KFold, cross_val_score\n",
    "from sklearn import preprocessing\n",
    "from sklearn.preprocessing import LabelEncoder\n",
    "\n",
    "from sklearn.linear_model import LinearRegression, Lasso, Ridge, SGDClassifier\n",
    "from sklearn.neural_network import MLPClassifier\n",
    "from sklearn.svm import SVC\n",
    "from sklearn.ensemble import RandomForestClassifier,AdaBoostClassifier, GradientBoostingClassifier,ExtraTreesClassifier\n",
    "\n",
    "from xgboost import XGBClassifier\n",
    "                        \n",
    "from sklearn.utils import shuffle\n",
    "from sklearn import metrics\n",
    "from sklearn.metrics import accuracy_score\n",
    "\n",
    "import datetime\n",
    "import numpy as np\n",
    "import pandas as pd\n",
    "from numpy import loadtxt\n",
    "\n",
    "import os\n",
    "import argparse\n",
    "from tqdm import tqdm\n",
    "import matplotlib.pyplot as plt\n",
    "\n",
    "plt.rcParams['font.family']='SimHei' #顯示中文\n",
    "\n",
    "#特殊符號: | "
   ]
  },
  {
   "cell_type": "markdown",
   "metadata": {},
   "source": [
    "# 1A. 載入資料"
   ]
  },
  {
   "cell_type": "code",
   "execution_count": 2,
   "metadata": {},
   "outputs": [
    {
     "name": "stderr",
     "output_type": "stream",
     "text": [
      "/opt/conda/lib/python3.6/site-packages/IPython/core/interactiveshell.py:2728: DtypeWarning: Columns (0,2,4,5,7,8,9) have mixed types. Specify dtype option on import or set low_memory=False.\n",
      "  interactivity=interactivity, compiler=compiler, result=result)\n",
      "/opt/conda/lib/python3.6/site-packages/IPython/core/interactiveshell.py:2728: DtypeWarning: Columns (0,1,3,5,6,8,9) have mixed types. Specify dtype option on import or set low_memory=False.\n",
      "  interactivity=interactivity, compiler=compiler, result=result)\n"
     ]
    },
    {
     "name": "stdout",
     "output_type": "stream",
     "text": [
      "(3817572, 10)\n",
      "(2545047, 10)\n"
     ]
    }
   ],
   "source": [
    "# 載入資料\n",
    "\n",
    "train = pd.read_csv('/home/jovyan/.kaggle/competitions/taiwan-aia-financefraud/train.csv', encoding = \"utf-8\", header=None)\n",
    "test  = pd.read_csv('/home/jovyan/.kaggle/competitions/taiwan-aia-financefraud/test.csv', encoding = \"utf-8\", header=None)\n",
    "\n",
    "# 將第一列改為 column names\n",
    "colnm = train.iloc[0]\n",
    "train.columns = colnm\n",
    "train=train.iloc[1:]\n",
    "\n",
    "colnm = test.iloc[0]\n",
    "test.columns = colnm\n",
    "test=test.iloc[1:]\n",
    "\n",
    "print(train.shape)\n",
    "print(test.shape)"
   ]
  },
  {
   "cell_type": "code",
   "execution_count": 3,
   "metadata": {},
   "outputs": [
    {
     "data": {
      "text/html": [
       "<div>\n",
       "<table border=\"1\" class=\"dataframe\">\n",
       "  <thead>\n",
       "    <tr style=\"text-align: right;\">\n",
       "      <th></th>\n",
       "      <th>step</th>\n",
       "      <th>type</th>\n",
       "      <th>amount</th>\n",
       "      <th>nameOrig</th>\n",
       "      <th>oldbalanceOrg</th>\n",
       "      <th>newbalanceOrig</th>\n",
       "      <th>nameDest</th>\n",
       "      <th>oldbalanceDest</th>\n",
       "      <th>newbalanceDest</th>\n",
       "      <th>Fraud</th>\n",
       "    </tr>\n",
       "  </thead>\n",
       "  <tbody>\n",
       "    <tr>\n",
       "      <th>1</th>\n",
       "      <td>323</td>\n",
       "      <td>PAYMENT</td>\n",
       "      <td>9092.69</td>\n",
       "      <td>C749189758</td>\n",
       "      <td>0.0</td>\n",
       "      <td>0.0</td>\n",
       "      <td>M1939669337</td>\n",
       "      <td>0.0</td>\n",
       "      <td>0.0</td>\n",
       "      <td>0</td>\n",
       "    </tr>\n",
       "    <tr>\n",
       "      <th>2</th>\n",
       "      <td>164</td>\n",
       "      <td>CASH_IN</td>\n",
       "      <td>23468.75</td>\n",
       "      <td>C525009948</td>\n",
       "      <td>0.0</td>\n",
       "      <td>23468.75</td>\n",
       "      <td>C65353523</td>\n",
       "      <td>77300.17</td>\n",
       "      <td>53831.42</td>\n",
       "      <td>0</td>\n",
       "    </tr>\n",
       "    <tr>\n",
       "      <th>3</th>\n",
       "      <td>228</td>\n",
       "      <td>CASH_OUT</td>\n",
       "      <td>39688.11</td>\n",
       "      <td>C1311063915</td>\n",
       "      <td>0.0</td>\n",
       "      <td>0.0</td>\n",
       "      <td>C1581032686</td>\n",
       "      <td>168913.26</td>\n",
       "      <td>208601.37</td>\n",
       "      <td>0</td>\n",
       "    </tr>\n",
       "    <tr>\n",
       "      <th>4</th>\n",
       "      <td>229</td>\n",
       "      <td>CASH_OUT</td>\n",
       "      <td>179016.96</td>\n",
       "      <td>C700594269</td>\n",
       "      <td>103485.0</td>\n",
       "      <td>0.0</td>\n",
       "      <td>C90149178</td>\n",
       "      <td>2483034.47</td>\n",
       "      <td>2662051.42</td>\n",
       "      <td>0</td>\n",
       "    </tr>\n",
       "    <tr>\n",
       "      <th>5</th>\n",
       "      <td>709</td>\n",
       "      <td>CASH_OUT</td>\n",
       "      <td>77155.99</td>\n",
       "      <td>C646560157</td>\n",
       "      <td>143307.0</td>\n",
       "      <td>66151.01</td>\n",
       "      <td>C671337546</td>\n",
       "      <td>21213865.83</td>\n",
       "      <td>21291021.82</td>\n",
       "      <td>0</td>\n",
       "    </tr>\n",
       "  </tbody>\n",
       "</table>\n",
       "</div>"
      ],
      "text/plain": [
       "0 step      type     amount     nameOrig oldbalanceOrg newbalanceOrig  \\\n",
       "1  323   PAYMENT    9092.69   C749189758           0.0            0.0   \n",
       "2  164   CASH_IN   23468.75   C525009948           0.0       23468.75   \n",
       "3  228  CASH_OUT   39688.11  C1311063915           0.0            0.0   \n",
       "4  229  CASH_OUT  179016.96   C700594269      103485.0            0.0   \n",
       "5  709  CASH_OUT   77155.99   C646560157      143307.0       66151.01   \n",
       "\n",
       "0     nameDest oldbalanceDest newbalanceDest Fraud  \n",
       "1  M1939669337            0.0            0.0     0  \n",
       "2    C65353523       77300.17       53831.42     0  \n",
       "3  C1581032686      168913.26      208601.37     0  \n",
       "4    C90149178     2483034.47     2662051.42     0  \n",
       "5   C671337546    21213865.83    21291021.82     0  "
      ]
     },
     "execution_count": 3,
     "metadata": {},
     "output_type": "execute_result"
    }
   ],
   "source": [
    "train.head()"
   ]
  },
  {
   "cell_type": "code",
   "execution_count": 3,
   "metadata": {},
   "outputs": [],
   "source": [
    "df = train"
   ]
  },
  {
   "cell_type": "code",
   "execution_count": 20,
   "metadata": {},
   "outputs": [],
   "source": [
    "df = test"
   ]
  },
  {
   "cell_type": "code",
   "execution_count": 21,
   "metadata": {},
   "outputs": [
    {
     "name": "stdout",
     "output_type": "stream",
     "text": [
      "0             id  step     type   amount     nameOrig oldbalanceOrg  \\\n",
      "2120221  2120221   1.0    DEBIT  4444.35  C1184694332         10229   \n",
      "59560      59560   1.0  PAYMENT   760.21   C288919635    1330599.59   \n",
      "1471125  1471125   1.0  PAYMENT  2064.02  C1367612102   1.79863e+06   \n",
      "\n",
      "0       newbalanceOrig     nameDest oldbalanceDest newbalanceDest  cnt  \n",
      "2120221        5784.65   C611572016        26112.9        2608.64    1  \n",
      "59560       1329839.38  M1572442646            0.0            0.0    1  \n",
      "1471125    1.79657e+06  M1537371824              0              0    1  \n",
      "0             id   step      type       amount     nameOrig oldbalanceOrg  \\\n",
      "292858    292858  743.0  TRANSFER       339682  C2013999242        339682   \n",
      "815523    815523  743.0  TRANSFER  1.25882e+06  C1531301470   1.25882e+06   \n",
      "1516576  1516576  743.0  CASH_OUT  6.31141e+06  C1162922333   6.31141e+06   \n",
      "\n",
      "0       newbalanceOrig     nameDest oldbalanceDest newbalanceDest  cnt  \n",
      "292858               0  C1850423904              0              0    1  \n",
      "815523               0  C1470998563              0              0    1  \n",
      "1516576              0  C1365125890        68488.8     6.3799e+06    1  \n"
     ]
    }
   ],
   "source": [
    "df.step = df.step.astype(float)\n",
    "\n",
    "df = df.sort_values('step')\n",
    "df['cnt']=1\n",
    "\n",
    "print(df.head(3))\n",
    "print(df.tail(3))"
   ]
  },
  {
   "cell_type": "code",
   "execution_count": 5,
   "metadata": {},
   "outputs": [
    {
     "name": "stdout",
     "output_type": "stream",
     "text": [
      "['PAYMENT' 'CASH_OUT' 'CASH_IN' 'DEBIT' 'TRANSFER']\n"
     ]
    }
   ],
   "source": [
    "print(df.type.unique())"
   ]
  },
  {
   "cell_type": "code",
   "execution_count": 22,
   "metadata": {},
   "outputs": [
    {
     "data": {
      "text/html": [
       "<div>\n",
       "<table border=\"1\" class=\"dataframe\">\n",
       "  <thead>\n",
       "    <tr style=\"text-align: right;\">\n",
       "      <th></th>\n",
       "      <th>step</th>\n",
       "      <th>type</th>\n",
       "      <th>amount</th>\n",
       "      <th>nameOrig</th>\n",
       "      <th>oldbalanceOrg</th>\n",
       "      <th>newbalanceOrig</th>\n",
       "      <th>nameDest</th>\n",
       "      <th>oldbalanceDest</th>\n",
       "      <th>newbalanceDest</th>\n",
       "      <th>Fraud</th>\n",
       "      <th>cnt</th>\n",
       "    </tr>\n",
       "  </thead>\n",
       "  <tbody>\n",
       "  </tbody>\n",
       "</table>\n",
       "</div>"
      ],
      "text/plain": [
       "Empty DataFrame\n",
       "Columns: [step, type, amount, nameOrig, oldbalanceOrg, newbalanceOrig, nameDest, oldbalanceDest, newbalanceDest, Fraud, cnt]\n",
       "Index: []"
      ]
     },
     "execution_count": 22,
     "metadata": {},
     "output_type": "execute_result"
    }
   ],
   "source": [
    "df[(df['type']=='PAYMENT') & (df['Fraud']==1)].head(3)"
   ]
  },
  {
   "cell_type": "code",
   "execution_count": 23,
   "metadata": {},
   "outputs": [
    {
     "data": {
      "text/html": [
       "<div>\n",
       "<table border=\"1\" class=\"dataframe\">\n",
       "  <thead>\n",
       "    <tr style=\"text-align: right;\">\n",
       "      <th></th>\n",
       "      <th>step</th>\n",
       "      <th>type</th>\n",
       "      <th>amount</th>\n",
       "      <th>nameOrig</th>\n",
       "      <th>oldbalanceOrg</th>\n",
       "      <th>newbalanceOrig</th>\n",
       "      <th>nameDest</th>\n",
       "      <th>oldbalanceDest</th>\n",
       "      <th>newbalanceDest</th>\n",
       "      <th>Fraud</th>\n",
       "      <th>cnt</th>\n",
       "    </tr>\n",
       "  </thead>\n",
       "  <tbody>\n",
       "  </tbody>\n",
       "</table>\n",
       "</div>"
      ],
      "text/plain": [
       "Empty DataFrame\n",
       "Columns: [step, type, amount, nameOrig, oldbalanceOrg, newbalanceOrig, nameDest, oldbalanceDest, newbalanceDest, Fraud, cnt]\n",
       "Index: []"
      ]
     },
     "execution_count": 23,
     "metadata": {},
     "output_type": "execute_result"
    }
   ],
   "source": [
    "df[(df['type']=='CASH_IN') & (df['Fraud']==1)].head(3)"
   ]
  },
  {
   "cell_type": "code",
   "execution_count": 24,
   "metadata": {},
   "outputs": [
    {
     "data": {
      "text/html": [
       "<div>\n",
       "<table border=\"1\" class=\"dataframe\">\n",
       "  <thead>\n",
       "    <tr style=\"text-align: right;\">\n",
       "      <th></th>\n",
       "      <th>step</th>\n",
       "      <th>type</th>\n",
       "      <th>amount</th>\n",
       "      <th>nameOrig</th>\n",
       "      <th>oldbalanceOrg</th>\n",
       "      <th>newbalanceOrig</th>\n",
       "      <th>nameDest</th>\n",
       "      <th>oldbalanceDest</th>\n",
       "      <th>newbalanceDest</th>\n",
       "      <th>Fraud</th>\n",
       "      <th>cnt</th>\n",
       "    </tr>\n",
       "  </thead>\n",
       "  <tbody>\n",
       "    <tr>\n",
       "      <th>1842696</th>\n",
       "      <td>1.0</td>\n",
       "      <td>CASH_OUT</td>\n",
       "      <td>25071.5</td>\n",
       "      <td>C1275464847</td>\n",
       "      <td>25071.5</td>\n",
       "      <td>0</td>\n",
       "      <td>C1364913072</td>\n",
       "      <td>9083.76</td>\n",
       "      <td>34155.2</td>\n",
       "      <td>1</td>\n",
       "      <td>1</td>\n",
       "    </tr>\n",
       "    <tr>\n",
       "      <th>1316563</th>\n",
       "      <td>1.0</td>\n",
       "      <td>CASH_OUT</td>\n",
       "      <td>235239</td>\n",
       "      <td>C1499825229</td>\n",
       "      <td>235239</td>\n",
       "      <td>0</td>\n",
       "      <td>C2100440237</td>\n",
       "      <td>0</td>\n",
       "      <td>235239</td>\n",
       "      <td>1</td>\n",
       "      <td>1</td>\n",
       "    </tr>\n",
       "    <tr>\n",
       "      <th>860094</th>\n",
       "      <td>1.0</td>\n",
       "      <td>CASH_OUT</td>\n",
       "      <td>181</td>\n",
       "      <td>C840083671</td>\n",
       "      <td>181</td>\n",
       "      <td>0</td>\n",
       "      <td>C38997010</td>\n",
       "      <td>21182</td>\n",
       "      <td>0</td>\n",
       "      <td>1</td>\n",
       "      <td>1</td>\n",
       "    </tr>\n",
       "  </tbody>\n",
       "</table>\n",
       "</div>"
      ],
      "text/plain": [
       "0        step      type   amount     nameOrig oldbalanceOrg newbalanceOrig  \\\n",
       "1842696   1.0  CASH_OUT  25071.5  C1275464847       25071.5              0   \n",
       "1316563   1.0  CASH_OUT   235239  C1499825229        235239              0   \n",
       "860094    1.0  CASH_OUT      181   C840083671           181              0   \n",
       "\n",
       "0           nameDest oldbalanceDest newbalanceDest Fraud  cnt  \n",
       "1842696  C1364913072        9083.76        34155.2     1    1  \n",
       "1316563  C2100440237              0         235239     1    1  \n",
       "860094     C38997010          21182              0     1    1  "
      ]
     },
     "execution_count": 24,
     "metadata": {},
     "output_type": "execute_result"
    }
   ],
   "source": [
    "df[(df['type']=='CASH_OUT') & (df['Fraud']==1)].head(3)"
   ]
  },
  {
   "cell_type": "code",
   "execution_count": 25,
   "metadata": {},
   "outputs": [
    {
     "data": {
      "text/html": [
       "<div>\n",
       "<table border=\"1\" class=\"dataframe\">\n",
       "  <thead>\n",
       "    <tr style=\"text-align: right;\">\n",
       "      <th></th>\n",
       "      <th>step</th>\n",
       "      <th>type</th>\n",
       "      <th>amount</th>\n",
       "      <th>nameOrig</th>\n",
       "      <th>oldbalanceOrg</th>\n",
       "      <th>newbalanceOrig</th>\n",
       "      <th>nameDest</th>\n",
       "      <th>oldbalanceDest</th>\n",
       "      <th>newbalanceDest</th>\n",
       "      <th>Fraud</th>\n",
       "      <th>cnt</th>\n",
       "    </tr>\n",
       "  </thead>\n",
       "  <tbody>\n",
       "    <tr>\n",
       "      <th>1313746</th>\n",
       "      <td>1.0</td>\n",
       "      <td>TRANSFER</td>\n",
       "      <td>35063.6</td>\n",
       "      <td>C1364127192</td>\n",
       "      <td>35063.6</td>\n",
       "      <td>0</td>\n",
       "      <td>C1136419747</td>\n",
       "      <td>0</td>\n",
       "      <td>0</td>\n",
       "      <td>1</td>\n",
       "      <td>1</td>\n",
       "    </tr>\n",
       "    <tr>\n",
       "      <th>2424890</th>\n",
       "      <td>1.0</td>\n",
       "      <td>TRANSFER</td>\n",
       "      <td>2806</td>\n",
       "      <td>C1420196421</td>\n",
       "      <td>2806</td>\n",
       "      <td>0</td>\n",
       "      <td>C972765878</td>\n",
       "      <td>0</td>\n",
       "      <td>0</td>\n",
       "      <td>1</td>\n",
       "      <td>1</td>\n",
       "    </tr>\n",
       "    <tr>\n",
       "      <th>1810150</th>\n",
       "      <td>1.0</td>\n",
       "      <td>TRANSFER</td>\n",
       "      <td>1.27721e+06</td>\n",
       "      <td>C1334405552</td>\n",
       "      <td>1.27721e+06</td>\n",
       "      <td>0</td>\n",
       "      <td>C431687661</td>\n",
       "      <td>0</td>\n",
       "      <td>0</td>\n",
       "      <td>1</td>\n",
       "      <td>1</td>\n",
       "    </tr>\n",
       "  </tbody>\n",
       "</table>\n",
       "</div>"
      ],
      "text/plain": [
       "0        step      type       amount     nameOrig oldbalanceOrg  \\\n",
       "1313746   1.0  TRANSFER      35063.6  C1364127192       35063.6   \n",
       "2424890   1.0  TRANSFER         2806  C1420196421          2806   \n",
       "1810150   1.0  TRANSFER  1.27721e+06  C1334405552   1.27721e+06   \n",
       "\n",
       "0       newbalanceOrig     nameDest oldbalanceDest newbalanceDest Fraud  cnt  \n",
       "1313746              0  C1136419747              0              0     1    1  \n",
       "2424890              0   C972765878              0              0     1    1  \n",
       "1810150              0   C431687661              0              0     1    1  "
      ]
     },
     "execution_count": 25,
     "metadata": {},
     "output_type": "execute_result"
    }
   ],
   "source": [
    "df[(df['type']=='TRANSFER') & (df['Fraud']==1)].head(3)"
   ]
  },
  {
   "cell_type": "code",
   "execution_count": 26,
   "metadata": {},
   "outputs": [
    {
     "data": {
      "text/html": [
       "<div>\n",
       "<table border=\"1\" class=\"dataframe\">\n",
       "  <thead>\n",
       "    <tr style=\"text-align: right;\">\n",
       "      <th></th>\n",
       "      <th>step</th>\n",
       "      <th>type</th>\n",
       "      <th>amount</th>\n",
       "      <th>nameOrig</th>\n",
       "      <th>oldbalanceOrg</th>\n",
       "      <th>newbalanceOrig</th>\n",
       "      <th>nameDest</th>\n",
       "      <th>oldbalanceDest</th>\n",
       "      <th>newbalanceDest</th>\n",
       "      <th>Fraud</th>\n",
       "      <th>cnt</th>\n",
       "    </tr>\n",
       "  </thead>\n",
       "  <tbody>\n",
       "  </tbody>\n",
       "</table>\n",
       "</div>"
      ],
      "text/plain": [
       "Empty DataFrame\n",
       "Columns: [step, type, amount, nameOrig, oldbalanceOrg, newbalanceOrig, nameDest, oldbalanceDest, newbalanceDest, Fraud, cnt]\n",
       "Index: []"
      ]
     },
     "execution_count": 26,
     "metadata": {},
     "output_type": "execute_result"
    }
   ],
   "source": [
    "df[(df['type']=='DEBIT') & (df['Fraud']==1)].head(3)"
   ]
  },
  {
   "cell_type": "markdown",
   "metadata": {},
   "source": [
    "# 1B 常用資料整理"
   ]
  },
  {
   "cell_type": "code",
   "execution_count": 97,
   "metadata": {},
   "outputs": [],
   "source": [
    "#df['ColumnA'] = df['ColumnA'].astype(str)    # 因為值中有數字文字\n",
    "#df.replace({'ColumnA':{'ValueA': 'ValueB'}}) # 值 誤植\n",
    "'''\n",
    "for dfB in full_data:  \n",
    "    dfB['ColumnA'] = dfB['ColumnA'].fillna(dfA['ColumnA'].median())#刪除空值，用中位數代替  \n",
    "\n",
    "df['columnB'] = pd.qcut(df['columnA'], 4)  #分為四等份\n",
    "'''"
   ]
  },
  {
   "cell_type": "markdown",
   "metadata": {},
   "source": [
    "# 1C 觀察原始資料"
   ]
  },
  {
   "cell_type": "code",
   "execution_count": 48,
   "metadata": {},
   "outputs": [
    {
     "name": "stdout",
     "output_type": "stream",
     "text": [
      "0\n",
      "id                0\n",
      "step              0\n",
      "type              0\n",
      "amount            0\n",
      "nameOrig          0\n",
      "oldbalanceOrg     0\n",
      "newbalanceOrig    0\n",
      "nameDest          0\n",
      "oldbalanceDest    0\n",
      "newbalanceDest    0\n",
      "cnt               0\n",
      "dtype: int64\n"
     ]
    }
   ],
   "source": [
    "# 檢查原始資料 NaN 值\n",
    "print(df.isnull().sum())"
   ]
  },
  {
   "cell_type": "code",
   "execution_count": 22,
   "metadata": {},
   "outputs": [],
   "source": [
    "# 若加減法有str錯誤，則強迫全部回到numeric\n",
    "df[['newbalanceOrig','oldbalanceOrg']]  = df[['newbalanceOrig','oldbalanceOrg']].apply(pd.to_numeric)\n",
    "df[['newbalanceDest','oldbalanceDest']] = df[['newbalanceDest','oldbalanceDest']].apply(pd.to_numeric)\n",
    "df[['amount']] = df[['amount']].apply(pd.to_numeric)"
   ]
  },
  {
   "cell_type": "markdown",
   "metadata": {},
   "source": [
    "# 2A. Feature Engineering"
   ]
  },
  {
   "cell_type": "code",
   "execution_count": 23,
   "metadata": {},
   "outputs": [
    {
     "data": {
      "text/html": [
       "<div>\n",
       "<table border=\"1\" class=\"dataframe\">\n",
       "  <thead>\n",
       "    <tr style=\"text-align: right;\">\n",
       "      <th></th>\n",
       "      <th>id</th>\n",
       "      <th>step</th>\n",
       "      <th>type</th>\n",
       "      <th>amount</th>\n",
       "      <th>nameOrig</th>\n",
       "      <th>oldbalanceOrg</th>\n",
       "      <th>newbalanceOrig</th>\n",
       "      <th>nameDest</th>\n",
       "      <th>oldbalanceDest</th>\n",
       "      <th>newbalanceDest</th>\n",
       "      <th>...</th>\n",
       "      <th>gap_Orig</th>\n",
       "      <th>gap_Dest</th>\n",
       "      <th>gap_amt_Orig</th>\n",
       "      <th>gap_amt_Dest</th>\n",
       "      <th>gap_Orig_Dest</th>\n",
       "      <th>gap_amt_Orig_Dest</th>\n",
       "      <th>day</th>\n",
       "      <th>hour</th>\n",
       "      <th>M</th>\n",
       "      <th>Dest_M</th>\n",
       "    </tr>\n",
       "  </thead>\n",
       "  <tbody>\n",
       "    <tr>\n",
       "      <th>2120221</th>\n",
       "      <td>2120221</td>\n",
       "      <td>1.0</td>\n",
       "      <td>DEBIT</td>\n",
       "      <td>4444.35</td>\n",
       "      <td>C1184694332</td>\n",
       "      <td>10229.00</td>\n",
       "      <td>5784.65</td>\n",
       "      <td>C611572016</td>\n",
       "      <td>26112.94</td>\n",
       "      <td>2608.64</td>\n",
       "      <td>...</td>\n",
       "      <td>-4444.0</td>\n",
       "      <td>-23504.0</td>\n",
       "      <td>0.0</td>\n",
       "      <td>-19060.0</td>\n",
       "      <td>-19060.0</td>\n",
       "      <td>-19060.0</td>\n",
       "      <td>0.0</td>\n",
       "      <td>1.0</td>\n",
       "      <td>M</td>\n",
       "      <td>0.0</td>\n",
       "    </tr>\n",
       "    <tr>\n",
       "      <th>59560</th>\n",
       "      <td>59560</td>\n",
       "      <td>1.0</td>\n",
       "      <td>PAYMENT</td>\n",
       "      <td>760.21</td>\n",
       "      <td>C288919635</td>\n",
       "      <td>1330599.59</td>\n",
       "      <td>1329839.38</td>\n",
       "      <td>M1572442646</td>\n",
       "      <td>0.00</td>\n",
       "      <td>0.00</td>\n",
       "      <td>...</td>\n",
       "      <td>-760.0</td>\n",
       "      <td>0.0</td>\n",
       "      <td>0.0</td>\n",
       "      <td>760.0</td>\n",
       "      <td>760.0</td>\n",
       "      <td>-760.0</td>\n",
       "      <td>0.0</td>\n",
       "      <td>1.0</td>\n",
       "      <td>M</td>\n",
       "      <td>1.0</td>\n",
       "    </tr>\n",
       "    <tr>\n",
       "      <th>1471125</th>\n",
       "      <td>1471125</td>\n",
       "      <td>1.0</td>\n",
       "      <td>PAYMENT</td>\n",
       "      <td>2064.02</td>\n",
       "      <td>C1367612102</td>\n",
       "      <td>1798634.37</td>\n",
       "      <td>1796570.34</td>\n",
       "      <td>M1537371824</td>\n",
       "      <td>0.00</td>\n",
       "      <td>0.00</td>\n",
       "      <td>...</td>\n",
       "      <td>-2064.0</td>\n",
       "      <td>0.0</td>\n",
       "      <td>0.0</td>\n",
       "      <td>2064.0</td>\n",
       "      <td>2064.0</td>\n",
       "      <td>-2064.0</td>\n",
       "      <td>0.0</td>\n",
       "      <td>1.0</td>\n",
       "      <td>M</td>\n",
       "      <td>1.0</td>\n",
       "    </tr>\n",
       "    <tr>\n",
       "      <th>2533633</th>\n",
       "      <td>2533633</td>\n",
       "      <td>1.0</td>\n",
       "      <td>PAYMENT</td>\n",
       "      <td>10019.06</td>\n",
       "      <td>C500660587</td>\n",
       "      <td>5203.54</td>\n",
       "      <td>0.00</td>\n",
       "      <td>M1738784081</td>\n",
       "      <td>0.00</td>\n",
       "      <td>0.00</td>\n",
       "      <td>...</td>\n",
       "      <td>-5204.0</td>\n",
       "      <td>0.0</td>\n",
       "      <td>4815.0</td>\n",
       "      <td>10019.0</td>\n",
       "      <td>5204.0</td>\n",
       "      <td>-5204.0</td>\n",
       "      <td>0.0</td>\n",
       "      <td>1.0</td>\n",
       "      <td>M</td>\n",
       "      <td>1.0</td>\n",
       "    </tr>\n",
       "    <tr>\n",
       "      <th>1215059</th>\n",
       "      <td>1215059</td>\n",
       "      <td>1.0</td>\n",
       "      <td>PAYMENT</td>\n",
       "      <td>6490.69</td>\n",
       "      <td>C2054787417</td>\n",
       "      <td>14703.00</td>\n",
       "      <td>8212.31</td>\n",
       "      <td>M67811496</td>\n",
       "      <td>0.00</td>\n",
       "      <td>0.00</td>\n",
       "      <td>...</td>\n",
       "      <td>-6491.0</td>\n",
       "      <td>0.0</td>\n",
       "      <td>-0.0</td>\n",
       "      <td>6491.0</td>\n",
       "      <td>6491.0</td>\n",
       "      <td>-6491.0</td>\n",
       "      <td>0.0</td>\n",
       "      <td>1.0</td>\n",
       "      <td>M</td>\n",
       "      <td>1.0</td>\n",
       "    </tr>\n",
       "  </tbody>\n",
       "</table>\n",
       "<p>5 rows × 21 columns</p>\n",
       "</div>"
      ],
      "text/plain": [
       "0             id  step     type    amount     nameOrig  oldbalanceOrg  \\\n",
       "2120221  2120221   1.0    DEBIT   4444.35  C1184694332       10229.00   \n",
       "59560      59560   1.0  PAYMENT    760.21   C288919635     1330599.59   \n",
       "1471125  1471125   1.0  PAYMENT   2064.02  C1367612102     1798634.37   \n",
       "2533633  2533633   1.0  PAYMENT  10019.06   C500660587        5203.54   \n",
       "1215059  1215059   1.0  PAYMENT   6490.69  C2054787417       14703.00   \n",
       "\n",
       "0        newbalanceOrig     nameDest  oldbalanceDest  newbalanceDest  ...    \\\n",
       "2120221         5784.65   C611572016        26112.94         2608.64  ...     \n",
       "59560        1329839.38  M1572442646            0.00            0.00  ...     \n",
       "1471125      1796570.34  M1537371824            0.00            0.00  ...     \n",
       "2533633            0.00  M1738784081            0.00            0.00  ...     \n",
       "1215059         8212.31    M67811496            0.00            0.00  ...     \n",
       "\n",
       "0        gap_Orig  gap_Dest  gap_amt_Orig  gap_amt_Dest  gap_Orig_Dest  \\\n",
       "2120221   -4444.0  -23504.0           0.0      -19060.0       -19060.0   \n",
       "59560      -760.0       0.0           0.0         760.0          760.0   \n",
       "1471125   -2064.0       0.0           0.0        2064.0         2064.0   \n",
       "2533633   -5204.0       0.0        4815.0       10019.0         5204.0   \n",
       "1215059   -6491.0       0.0          -0.0        6491.0         6491.0   \n",
       "\n",
       "0        gap_amt_Orig_Dest  day  hour  M Dest_M  \n",
       "2120221           -19060.0  0.0   1.0  M    0.0  \n",
       "59560               -760.0  0.0   1.0  M    1.0  \n",
       "1471125            -2064.0  0.0   1.0  M    1.0  \n",
       "2533633            -5204.0  0.0   1.0  M    1.0  \n",
       "1215059            -6491.0  0.0   1.0  M    1.0  \n",
       "\n",
       "[5 rows x 21 columns]"
      ]
     },
     "execution_count": 23,
     "metadata": {},
     "output_type": "execute_result"
    }
   ],
   "source": [
    "# 逐筆計算差額\n",
    "df['gap_Orig'] = round(df['newbalanceOrig'] - df['oldbalanceOrg'])\n",
    "df['gap_Dest'] = round(df['newbalanceDest'] - df['oldbalanceDest'])\n",
    "df['gap_amt_Orig']  = round(df['amount'] - abs(df['gap_Orig']))\n",
    "df['gap_amt_Dest']  = round(df['amount'] - abs(df['gap_Dest']))\n",
    "df['gap_Orig_Dest'] = round(abs(df['gap_Orig']) - abs(df['gap_Dest']))\n",
    "df['gap_amt_Orig_Dest'] = round(abs(df['gap_amt_Orig']) - abs(df['gap_amt_Dest']))\n",
    "\n",
    "# 時間\n",
    "df['day']  = round(df['step']/24)\n",
    "df['hour'] = df['step']%24\n",
    "\n",
    "# Dest Acct \n",
    "df['M'] = 'M'\n",
    "df['Dest_M'] = df.apply(lambda x: x['M'] in x['nameDest'], axis=1) \n",
    "df['Dest_M'] = df.Dest_M.astype(float)\n",
    "#df['Fraud']  = df.Fraud.astype(float)\n",
    "df.head()"
   ]
  },
  {
   "cell_type": "code",
   "execution_count": 42,
   "metadata": {},
   "outputs": [
    {
     "data": {
      "text/plain": [
       "{dtype('int64'): Index(['cnt'], dtype='object'),\n",
       " dtype('float64'): Index(['step', 'amount', 'oldbalanceOrg', 'newbalanceOrig', 'oldbalanceDest',\n",
       "        'newbalanceDest', 'gap_Orig', 'gap_Dest', 'gap_amt_Orig',\n",
       "        'gap_amt_Dest', 'gap_Orig_Dest', 'gap_amt_Orig_Dest', 'day', 'hour',\n",
       "        'Dest_M'],\n",
       "       dtype='object'),\n",
       " dtype('O'): Index(['id', 'type', 'nameOrig', 'nameDest', 'M'], dtype='object')}"
      ]
     },
     "execution_count": 42,
     "metadata": {},
     "output_type": "execute_result"
    }
   ],
   "source": [
    "g = df1.columns.to_series().groupby(df.dtypes).groups\n",
    "g"
   ]
  },
  {
   "cell_type": "code",
   "execution_count": 25,
   "metadata": {
    "scrolled": true
   },
   "outputs": [],
   "source": [
    "# aggregate\n",
    "\n",
    "# 同日同acct交易次數\n",
    "DayOrig   = df.groupby(['nameOrig','day']).size()\n",
    "DayDest   = df.groupby(['nameDest','day']).size()\n",
    "DayOrigMax = DayOrig.groupby(level=0).max()\n",
    "DayDestMax = DayDest.groupby(level=0).max()\n",
    "\n",
    "# 同小時同acct交易次數\n",
    "HurOrig   = df.groupby(['nameOrig','hour']).size()\n",
    "HurDest   = df.groupby(['nameDest','hour']).size()\n",
    "HurOrigMax = HurOrig.groupby(level=0).max()\n",
    "HurDestMax = HurDest.groupby(level=0).max()\n",
    "\n",
    "\n",
    "Orig   = df.groupby(['nameOrig']).size()\n",
    "Dest   = df.groupby(['nameDest']).size()\n",
    "\n",
    "TOr    = Orig.groupby(level=(0)).size() # 總共File被多少客人使用\n",
    "TDe    = Dest.groupby(level=(0)).size() # 總共File被多少產品使用\n"
   ]
  },
  {
   "cell_type": "code",
   "execution_count": 26,
   "metadata": {},
   "outputs": [],
   "source": [
    "\n",
    "\n",
    "df_Orig = pd.concat([DayOrigMax, HurOrigMax, TOr], axis=1)\n",
    "df_Dest = pd.concat([DayDestMax, HurDestMax, TDe], axis=1)\n",
    "\n",
    "df_Orig.columns = ['DayOrigMax', 'HurOrigMax', 'TOr']\n",
    "df_Dest.columns = ['DayDestMax', 'HurDestMax', 'TDe']\n",
    "\n",
    "df_Orig = pd.DataFrame(df_Orig).reset_index()\n",
    "df_Dest = pd.DataFrame(df_Dest).reset_index()\n"
   ]
  },
  {
   "cell_type": "code",
   "execution_count": 40,
   "metadata": {},
   "outputs": [],
   "source": [
    "df1 = pd.merge(df , df_Orig, on=['nameOrig'])\n",
    "df1 = pd.merge(df1, df_Dest, on=['nameDest'])"
   ]
  },
  {
   "cell_type": "code",
   "execution_count": 19,
   "metadata": {},
   "outputs": [],
   "source": [
    "df_train = df1"
   ]
  },
  {
   "cell_type": "code",
   "execution_count": 41,
   "metadata": {},
   "outputs": [],
   "source": [
    "df_test = df1"
   ]
  },
  {
   "cell_type": "markdown",
   "metadata": {},
   "source": [
    "# 4. 評估模型"
   ]
  },
  {
   "cell_type": "code",
   "execution_count": 29,
   "metadata": {},
   "outputs": [],
   "source": [
    "# 分成 train & test\n",
    "\n",
    "x_tr    = df_train.drop(['type', 'nameOrig', 'nameDest', 'M', 'cnt', 'Fraud'], axis=1)\n",
    "y_tr    = df_train['Fraud']\n",
    "x_te_ID = df_test['id']\n",
    "x_te    = df_test.drop(['type', 'nameOrig', 'nameDest', 'M', 'cnt', 'id'], axis=1)\n",
    "\n",
    "# 真正上傳時\n",
    "x_train, y_train, x_test = x_tr, y_tr, x_te\n",
    "\n",
    "# 訓練時\n",
    "#x_train, x_test, y_train, y_test = train_test_split(x_tr, y_tr, test_size=0.2, random_state= 68, shuffle=False)\n"
   ]
  },
  {
   "cell_type": "code",
   "execution_count": 33,
   "metadata": {},
   "outputs": [
    {
     "name": "stdout",
     "output_type": "stream",
     "text": [
      "0.999556006115 0.999999737909\n"
     ]
    }
   ],
   "source": [
    "# XGBoost (train)\n",
    "\n",
    "model = XGBClassifier() # n_estimators=100, max_depth=4, learning_rate=0.1\n",
    "model.fit(x_train, y_train)\n",
    "   \n",
    "probs1 = model.predict_proba(x_train)\n",
    "probs2 = model.predict_proba(x_test)\n",
    "\n",
    "auc1   = metrics.roc_auc_score(y_train, [x[1] for x in probs1])\n",
    "auc2   = metrics.roc_auc_score(y_test,  [x[1] for x in probs2])\n",
    "print(auc1, auc2)\n"
   ]
  },
  {
   "cell_type": "code",
   "execution_count": 38,
   "metadata": {},
   "outputs": [
    {
     "ename": "TypeError",
     "evalue": "'>' not supported between instances of 'int' and 'str'",
     "output_type": "error",
     "traceback": [
      "\u001b[0;31m---------------------------------------------------------------------------\u001b[0m",
      "\u001b[0;31mTypeError\u001b[0m                                 Traceback (most recent call last)",
      "\u001b[0;32m<ipython-input-38-73d7e973a8ef>\u001b[0m in \u001b[0;36m<module>\u001b[0;34m()\u001b[0m\n\u001b[1;32m      2\u001b[0m \u001b[0;34m\u001b[0m\u001b[0m\n\u001b[1;32m      3\u001b[0m \u001b[0mmodel\u001b[0m \u001b[0;34m=\u001b[0m \u001b[0mXGBClassifier\u001b[0m\u001b[0;34m(\u001b[0m\u001b[0;34m)\u001b[0m \u001b[0;31m# n_estimators=100, max_depth=4, learning_rate=0.1\u001b[0m\u001b[0;34m\u001b[0m\u001b[0m\n\u001b[0;32m----> 4\u001b[0;31m \u001b[0mmodel\u001b[0m\u001b[0;34m.\u001b[0m\u001b[0mfit\u001b[0m\u001b[0;34m(\u001b[0m\u001b[0mx_train\u001b[0m\u001b[0;34m,\u001b[0m \u001b[0my_train\u001b[0m\u001b[0;34m)\u001b[0m\u001b[0;34m\u001b[0m\u001b[0m\n\u001b[0m\u001b[1;32m      5\u001b[0m \u001b[0;34m\u001b[0m\u001b[0m\n\u001b[1;32m      6\u001b[0m \u001b[0mprobs1\u001b[0m \u001b[0;34m=\u001b[0m \u001b[0mmodel\u001b[0m\u001b[0;34m.\u001b[0m\u001b[0mpredict_proba\u001b[0m\u001b[0;34m(\u001b[0m\u001b[0mx_train\u001b[0m\u001b[0;34m)\u001b[0m\u001b[0;34m\u001b[0m\u001b[0m\n",
      "\u001b[0;32m/opt/conda/lib/python3.6/site-packages/xgboost/sklearn.py\u001b[0m in \u001b[0;36mfit\u001b[0;34m(self, X, y, sample_weight, eval_set, eval_metric, early_stopping_rounds, verbose, xgb_model)\u001b[0m\n\u001b[1;32m    451\u001b[0m         \"\"\"\n\u001b[1;32m    452\u001b[0m         \u001b[0mevals_result\u001b[0m \u001b[0;34m=\u001b[0m \u001b[0;34m{\u001b[0m\u001b[0;34m}\u001b[0m\u001b[0;34m\u001b[0m\u001b[0m\n\u001b[0;32m--> 453\u001b[0;31m         \u001b[0mself\u001b[0m\u001b[0;34m.\u001b[0m\u001b[0mclasses_\u001b[0m \u001b[0;34m=\u001b[0m \u001b[0mnp\u001b[0m\u001b[0;34m.\u001b[0m\u001b[0munique\u001b[0m\u001b[0;34m(\u001b[0m\u001b[0my\u001b[0m\u001b[0;34m)\u001b[0m\u001b[0;34m\u001b[0m\u001b[0m\n\u001b[0m\u001b[1;32m    454\u001b[0m         \u001b[0mself\u001b[0m\u001b[0;34m.\u001b[0m\u001b[0mn_classes_\u001b[0m \u001b[0;34m=\u001b[0m \u001b[0mlen\u001b[0m\u001b[0;34m(\u001b[0m\u001b[0mself\u001b[0m\u001b[0;34m.\u001b[0m\u001b[0mclasses_\u001b[0m\u001b[0;34m)\u001b[0m\u001b[0;34m\u001b[0m\u001b[0m\n\u001b[1;32m    455\u001b[0m \u001b[0;34m\u001b[0m\u001b[0m\n",
      "\u001b[0;32m/opt/conda/lib/python3.6/site-packages/numpy/lib/arraysetops.py\u001b[0m in \u001b[0;36munique\u001b[0;34m(ar, return_index, return_inverse, return_counts)\u001b[0m\n\u001b[1;32m    212\u001b[0m         \u001b[0maux\u001b[0m \u001b[0;34m=\u001b[0m \u001b[0mar\u001b[0m\u001b[0;34m[\u001b[0m\u001b[0mperm\u001b[0m\u001b[0;34m]\u001b[0m\u001b[0;34m\u001b[0m\u001b[0m\n\u001b[1;32m    213\u001b[0m     \u001b[0;32melse\u001b[0m\u001b[0;34m:\u001b[0m\u001b[0;34m\u001b[0m\u001b[0m\n\u001b[0;32m--> 214\u001b[0;31m         \u001b[0mar\u001b[0m\u001b[0;34m.\u001b[0m\u001b[0msort\u001b[0m\u001b[0;34m(\u001b[0m\u001b[0;34m)\u001b[0m\u001b[0;34m\u001b[0m\u001b[0m\n\u001b[0m\u001b[1;32m    215\u001b[0m         \u001b[0maux\u001b[0m \u001b[0;34m=\u001b[0m \u001b[0mar\u001b[0m\u001b[0;34m\u001b[0m\u001b[0m\n\u001b[1;32m    216\u001b[0m     \u001b[0mflag\u001b[0m \u001b[0;34m=\u001b[0m \u001b[0mnp\u001b[0m\u001b[0;34m.\u001b[0m\u001b[0mconcatenate\u001b[0m\u001b[0;34m(\u001b[0m\u001b[0;34m(\u001b[0m\u001b[0;34m[\u001b[0m\u001b[0;32mTrue\u001b[0m\u001b[0;34m]\u001b[0m\u001b[0;34m,\u001b[0m \u001b[0maux\u001b[0m\u001b[0;34m[\u001b[0m\u001b[0;36m1\u001b[0m\u001b[0;34m:\u001b[0m\u001b[0;34m]\u001b[0m \u001b[0;34m!=\u001b[0m \u001b[0maux\u001b[0m\u001b[0;34m[\u001b[0m\u001b[0;34m:\u001b[0m\u001b[0;34m-\u001b[0m\u001b[0;36m1\u001b[0m\u001b[0;34m]\u001b[0m\u001b[0;34m)\u001b[0m\u001b[0;34m)\u001b[0m\u001b[0;34m\u001b[0m\u001b[0m\n",
      "\u001b[0;31mTypeError\u001b[0m: '>' not supported between instances of 'int' and 'str'"
     ]
    }
   ],
   "source": [
    "# XGBoost (真正上傳資料)\n",
    "\n",
    "model = XGBClassifier() # n_estimators=100, max_depth=4, learning_rate=0.1\n",
    "model.fit(x_train, y_train)\n",
    "   \n",
    "probs1 = model.predict_proba(x_train)\n",
    "probs2 = model.predict_proba(x_test)\n",
    "\n",
    "auc1   = metrics.roc_auc_score(y_train, [x[1] for x in probs1])\n",
    "print(auc1)\n"
   ]
  },
  {
   "cell_type": "markdown",
   "metadata": {},
   "source": [
    "# 5A 組合模型 (Ensemble): KFold + Stacking "
   ]
  },
  {
   "cell_type": "markdown",
   "metadata": {},
   "source": [
    "# 5B1 給定跑模型的資料 "
   ]
  },
  {
   "cell_type": "markdown",
   "metadata": {},
   "source": [
    "# 5B2 設定模型參數"
   ]
  },
  {
   "cell_type": "markdown",
   "metadata": {},
   "source": [
    "# 5C Stacking 第一層"
   ]
  },
  {
   "cell_type": "markdown",
   "metadata": {},
   "source": [
    "# 5D Stacking 第二層"
   ]
  },
  {
   "cell_type": "markdown",
   "metadata": {},
   "source": [
    "# 5E 跳過stacking直接做KFold+XGB (一層而已)"
   ]
  },
  {
   "cell_type": "markdown",
   "metadata": {},
   "source": [
    "# 6. 上傳結果"
   ]
  },
  {
   "cell_type": "code",
   "execution_count": null,
   "metadata": {},
   "outputs": [],
   "source": [
    "KaggleSubmission = pd.DataFrame({ 'ID_t': x_te_ID,\n",
    "                                  'Fraud': probs2[:,1] })\n",
    "KaggleSubmission['ID'] = KaggleSubmission['ID_t'].astype(int)-1\n",
    "KaggleSubmission = KaggleSubmission.drop(['ID_t'], axis=1)\n",
    "KaggleSubmission.to_csv(\"KaggleSubmission.csv\", index=False)"
   ]
  },
  {
   "cell_type": "code",
   "execution_count": null,
   "metadata": {},
   "outputs": [],
   "source": [
    "KaggleSubmission"
   ]
  },
  {
   "cell_type": "code",
   "execution_count": null,
   "metadata": {},
   "outputs": [],
   "source": []
  }
 ],
 "metadata": {
  "kernelspec": {
   "display_name": "Python 3",
   "language": "python",
   "name": "python3"
  },
  "language_info": {
   "codemirror_mode": {
    "name": "ipython",
    "version": 3
   },
   "file_extension": ".py",
   "mimetype": "text/x-python",
   "name": "python",
   "nbconvert_exporter": "python",
   "pygments_lexer": "ipython3",
   "version": "3.6.3"
  }
 },
 "nbformat": 4,
 "nbformat_minor": 2
}
